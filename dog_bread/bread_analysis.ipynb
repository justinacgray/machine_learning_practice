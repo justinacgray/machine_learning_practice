{
 "cells": [
  {
   "attachments": {},
   "cell_type": "markdown",
   "metadata": {},
   "source": [
    "Analysis on ...\n",
    "\n",
    "From Data to model\n",
    "In this notebook we will take a dataset, clean it, train a model, and make a predictions\n",
    "\n",
    "Steps:\n",
    "1. Import libraries \n",
    "2. Load dataset\n",
    "3. Make a copy of original dataset\n",
    "4. We will use the copy for further processing\n",
    "5. Check for inconsistencies and missing values, duplicates\n",
    "6. Split the data set in train/test\n",
    "7. Separate the categorical and numerical features\n",
    "8. Check for missing and handle missing values in categorical and numerical using simple imputer\n",
    "10.Fit model and evaluate it"
   ]
  },
  {
   "attachments": {},
   "cell_type": "markdown",
   "metadata": {},
   "source": [
    "Step 1: Start importing libraries"
   ]
  },
  {
   "cell_type": "code",
   "execution_count": 2,
   "metadata": {},
   "outputs": [],
   "source": [
    "import pandas as pd # handles dataframe\n",
    "import numpy as np #handles array\n",
    "from sklearn.metrics import mean_absolute_error, mean_squared_error, r2_score\n",
    "from sklearn import set_config #draws the diagram of the pipeline\n",
    "set_config(display='diagram')\n",
    "\n"
   ]
  },
  {
   "cell_type": "code",
   "execution_count": 3,
   "metadata": {},
   "outputs": [],
   "source": [
    "# evaluates how well model did\n",
    "def eval_regression(true,predicted_values):\n",
    "    ''' Takes true and predicted values (arrays) and prints MAE, MSE, RMSE, and R2'''\n",
    "    # don't need to use numpy to do these calculations\n",
    "    # taking 2 parameters because that's what is need the true values and predicted values for calculations\n",
    "    mae = mean_absolute_error(true, predicted_values)\n",
    "    mse = mean_squared_error(true, predicted_values)\n",
    "    rmse = np.sqrt(mse)\n",
    "    r2 = r2_score(true, predicted_values)\n",
    "    print(f'MAE {mae}, \\n MSE {mse}, \\n RMSE {rmse}, \\n R^2 {r2}')"
   ]
  },
  {
   "cell_type": "code",
   "execution_count": 4,
   "metadata": {},
   "outputs": [
    {
     "name": "stdout",
     "output_type": "stream",
     "text": [
      "<class 'pandas.core.frame.DataFrame'>\n",
      "RangeIndex: 150 entries, 0 to 149\n",
      "Data columns (total 6 columns):\n",
      " #   Column              Non-Null Count  Dtype \n",
      "---  ------              --------------  ----- \n",
      " 0   index               150 non-null    int64 \n",
      " 1   Breed               150 non-null    object\n",
      " 2   height_low_inches   150 non-null    object\n",
      " 3   height_high_inches  150 non-null    object\n",
      " 4   weight_low_lbs      150 non-null    object\n",
      " 5   weight_high_lbs     150 non-null    object\n",
      "dtypes: int64(1), object(5)\n",
      "memory usage: 7.2+ KB\n"
     ]
    },
    {
     "data": {
      "text/html": [
       "<div>\n",
       "<style scoped>\n",
       "    .dataframe tbody tr th:only-of-type {\n",
       "        vertical-align: middle;\n",
       "    }\n",
       "\n",
       "    .dataframe tbody tr th {\n",
       "        vertical-align: top;\n",
       "    }\n",
       "\n",
       "    .dataframe thead th {\n",
       "        text-align: right;\n",
       "    }\n",
       "</style>\n",
       "<table border=\"1\" class=\"dataframe\">\n",
       "  <thead>\n",
       "    <tr style=\"text-align: right;\">\n",
       "      <th></th>\n",
       "      <th>index</th>\n",
       "      <th>Breed</th>\n",
       "      <th>height_low_inches</th>\n",
       "      <th>height_high_inches</th>\n",
       "      <th>weight_low_lbs</th>\n",
       "      <th>weight_high_lbs</th>\n",
       "    </tr>\n",
       "  </thead>\n",
       "  <tbody>\n",
       "    <tr>\n",
       "      <th>0</th>\n",
       "      <td>0</td>\n",
       "      <td>Akita</td>\n",
       "      <td>26</td>\n",
       "      <td>28</td>\n",
       "      <td>80</td>\n",
       "      <td>120</td>\n",
       "    </tr>\n",
       "    <tr>\n",
       "      <th>1</th>\n",
       "      <td>1</td>\n",
       "      <td>Anatolian Sheepdog</td>\n",
       "      <td>27</td>\n",
       "      <td>29</td>\n",
       "      <td>100</td>\n",
       "      <td>150</td>\n",
       "    </tr>\n",
       "    <tr>\n",
       "      <th>2</th>\n",
       "      <td>2</td>\n",
       "      <td>Bernese Mountain Dog</td>\n",
       "      <td>23</td>\n",
       "      <td>27</td>\n",
       "      <td>85</td>\n",
       "      <td>110</td>\n",
       "    </tr>\n",
       "    <tr>\n",
       "      <th>3</th>\n",
       "      <td>3</td>\n",
       "      <td>Bloodhound</td>\n",
       "      <td>24</td>\n",
       "      <td>26</td>\n",
       "      <td>80</td>\n",
       "      <td>120</td>\n",
       "    </tr>\n",
       "    <tr>\n",
       "      <th>4</th>\n",
       "      <td>4</td>\n",
       "      <td>Borzoi</td>\n",
       "      <td>26</td>\n",
       "      <td>28</td>\n",
       "      <td>70</td>\n",
       "      <td>100</td>\n",
       "    </tr>\n",
       "  </tbody>\n",
       "</table>\n",
       "</div>"
      ],
      "text/plain": [
       "   index                 Breed height_low_inches height_high_inches  \\\n",
       "0      0                 Akita                26                 28   \n",
       "1      1    Anatolian Sheepdog                27                 29   \n",
       "2      2  Bernese Mountain Dog                23                 27   \n",
       "3      3            Bloodhound                24                 26   \n",
       "4      4                Borzoi                26                 28   \n",
       "\n",
       "  weight_low_lbs weight_high_lbs  \n",
       "0             80             120  \n",
       "1            100             150  \n",
       "2             85             110  \n",
       "3             80             120  \n",
       "4             70             100  "
      ]
     },
     "execution_count": 4,
     "metadata": {},
     "output_type": "execute_result"
    }
   ],
   "source": [
    "path = './AKC Breed Info.csv'\n",
    "dog_breed_df = pd.read_csv(path)\n",
    "dog_breed_df.info()\n",
    "dog_breed_df.head()"
   ]
  },
  {
   "cell_type": "code",
   "execution_count": 5,
   "metadata": {},
   "outputs": [],
   "source": [
    "# copy of dataframe\n",
    "dog_breed_df_copy = dog_breed_df.copy()"
   ]
  },
  {
   "cell_type": "code",
   "execution_count": 6,
   "metadata": {},
   "outputs": [
    {
     "data": {
      "text/plain": [
       "(150, 6)"
      ]
     },
     "execution_count": 6,
     "metadata": {},
     "output_type": "execute_result"
    }
   ],
   "source": [
    "# 150 rows 6 columns\n",
    "dog_breed_df.shape"
   ]
  },
  {
   "cell_type": "code",
   "execution_count": null,
   "metadata": {},
   "outputs": [],
   "source": [
    "dog_breed_df.inf"
   ]
  },
  {
   "cell_type": "code",
   "execution_count": 7,
   "metadata": {},
   "outputs": [
    {
     "data": {
      "text/plain": [
       "0"
      ]
     },
     "execution_count": 7,
     "metadata": {},
     "output_type": "execute_result"
    }
   ],
   "source": [
    "# checking for dups\n",
    "dog_breed_df.duplicated().sum()"
   ]
  },
  {
   "cell_type": "code",
   "execution_count": 8,
   "metadata": {},
   "outputs": [
    {
     "data": {
      "text/plain": [
       "index                 0\n",
       "Breed                 0\n",
       "height_low_inches     0\n",
       "height_high_inches    0\n",
       "weight_low_lbs        0\n",
       "weight_high_lbs       0\n",
       "dtype: int64"
      ]
     },
     "execution_count": 8,
     "metadata": {},
     "output_type": "execute_result"
    }
   ],
   "source": [
    "# checking for na values\n",
    "dog_breed_df.isna().sum()"
   ]
  },
  {
   "cell_type": "code",
   "execution_count": 50,
   "metadata": {},
   "outputs": [
    {
     "ename": "AttributeError",
     "evalue": "'DataFrame' object has no attribute 'unique'",
     "output_type": "error",
     "traceback": [
      "\u001b[0;31m---------------------------------------------------------------------------\u001b[0m",
      "\u001b[0;31mAttributeError\u001b[0m                            Traceback (most recent call last)",
      "Cell \u001b[0;32mIn[50], line 14\u001b[0m\n\u001b[1;32m      8\u001b[0m dog_breed_df[\u001b[39m'\u001b[39m\u001b[39mBreed\u001b[39m\u001b[39m'\u001b[39m][\u001b[39m10\u001b[39m:\u001b[39m30\u001b[39m]\n\u001b[1;32m      9\u001b[0m \u001b[39m# change height/ weight into integers\u001b[39;00m\n\u001b[1;32m     10\u001b[0m \u001b[39m# dog_breed_df['height_high_inches'] = dog_breed_df['height_high_inches'].astype(int)\u001b[39;00m\n\u001b[1;32m     11\u001b[0m \u001b[39m# type(dog_breed_df['height_high_inches'])\u001b[39;00m\n\u001b[1;32m     12\u001b[0m \u001b[39m# dog_breed_df.dtypes\u001b[39;00m\n\u001b[1;32m     13\u001b[0m \u001b[39m# dog_breed_df['height_high_inches'].value_counts()\u001b[39;00m\n\u001b[0;32m---> 14\u001b[0m dog_breed_df\u001b[39m.\u001b[39;49munique\n",
      "File \u001b[0;32m/Library/Frameworks/Python.framework/Versions/3.10/lib/python3.10/site-packages/pandas/core/generic.py:5902\u001b[0m, in \u001b[0;36mNDFrame.__getattr__\u001b[0;34m(self, name)\u001b[0m\n\u001b[1;32m   5895\u001b[0m \u001b[39mif\u001b[39;00m (\n\u001b[1;32m   5896\u001b[0m     name \u001b[39mnot\u001b[39;00m \u001b[39min\u001b[39;00m \u001b[39mself\u001b[39m\u001b[39m.\u001b[39m_internal_names_set\n\u001b[1;32m   5897\u001b[0m     \u001b[39mand\u001b[39;00m name \u001b[39mnot\u001b[39;00m \u001b[39min\u001b[39;00m \u001b[39mself\u001b[39m\u001b[39m.\u001b[39m_metadata\n\u001b[1;32m   5898\u001b[0m     \u001b[39mand\u001b[39;00m name \u001b[39mnot\u001b[39;00m \u001b[39min\u001b[39;00m \u001b[39mself\u001b[39m\u001b[39m.\u001b[39m_accessors\n\u001b[1;32m   5899\u001b[0m     \u001b[39mand\u001b[39;00m \u001b[39mself\u001b[39m\u001b[39m.\u001b[39m_info_axis\u001b[39m.\u001b[39m_can_hold_identifiers_and_holds_name(name)\n\u001b[1;32m   5900\u001b[0m ):\n\u001b[1;32m   5901\u001b[0m     \u001b[39mreturn\u001b[39;00m \u001b[39mself\u001b[39m[name]\n\u001b[0;32m-> 5902\u001b[0m \u001b[39mreturn\u001b[39;00m \u001b[39mobject\u001b[39;49m\u001b[39m.\u001b[39;49m\u001b[39m__getattribute__\u001b[39;49m(\u001b[39mself\u001b[39;49m, name)\n",
      "\u001b[0;31mAttributeError\u001b[0m: 'DataFrame' object has no attribute 'unique'"
     ]
    }
   ],
   "source": [
    "# type \n",
    "type(dog_breed_df)\n",
    "# head\n",
    "dog_breed_df['Breed'].head()\n",
    "# tail\n",
    "dog_breed_df['Breed'].tail()\n",
    "# selecting certain amount of rows from a column\n",
    "dog_breed_df['Breed'][10:30]\n",
    "# change height/ weight into integers\n",
    "# dog_breed_df['height_high_inches'] = dog_breed_df['height_high_inches'].astype(int)\n",
    "# type(dog_breed_df['height_high_inches'])\n",
    "# dog_breed_df.dtypes\n",
    "# dog_breed_df['height_high_inches'].value_counts()\n"
   ]
  },
  {
   "cell_type": "code",
   "execution_count": 23,
   "metadata": {},
   "outputs": [
    {
     "data": {
      "text/html": [
       "<div>\n",
       "<style scoped>\n",
       "    .dataframe tbody tr th:only-of-type {\n",
       "        vertical-align: middle;\n",
       "    }\n",
       "\n",
       "    .dataframe tbody tr th {\n",
       "        vertical-align: top;\n",
       "    }\n",
       "\n",
       "    .dataframe thead th {\n",
       "        text-align: right;\n",
       "    }\n",
       "</style>\n",
       "<table border=\"1\" class=\"dataframe\">\n",
       "  <thead>\n",
       "    <tr style=\"text-align: right;\">\n",
       "      <th></th>\n",
       "      <th>Breed</th>\n",
       "    </tr>\n",
       "  </thead>\n",
       "  <tbody>\n",
       "    <tr>\n",
       "      <th>0</th>\n",
       "      <td>Akita</td>\n",
       "    </tr>\n",
       "    <tr>\n",
       "      <th>1</th>\n",
       "      <td>Anatolian Sheepdog</td>\n",
       "    </tr>\n",
       "    <tr>\n",
       "      <th>2</th>\n",
       "      <td>Bernese Mountain Dog</td>\n",
       "    </tr>\n",
       "    <tr>\n",
       "      <th>3</th>\n",
       "      <td>Bloodhound</td>\n",
       "    </tr>\n",
       "    <tr>\n",
       "      <th>4</th>\n",
       "      <td>Borzoi</td>\n",
       "    </tr>\n",
       "  </tbody>\n",
       "</table>\n",
       "</div>"
      ],
      "text/plain": [
       "                  Breed\n",
       "0                 Akita\n",
       "1    Anatolian Sheepdog\n",
       "2  Bernese Mountain Dog\n",
       "3            Bloodhound\n",
       "4                Borzoi"
      ]
     },
     "execution_count": 23,
     "metadata": {},
     "output_type": "execute_result"
    }
   ],
   "source": [
    "# selecting columns through .loc method\n",
    "dog_breed_df.loc[:,['Breed']]\n",
    "# .loc with head method\n",
    "dog_breed_df.loc[:,['Breed']].head()\n"
   ]
  },
  {
   "cell_type": "code",
   "execution_count": null,
   "metadata": {},
   "outputs": [],
   "source": []
  },
  {
   "cell_type": "code",
   "execution_count": null,
   "metadata": {},
   "outputs": [],
   "source": []
  }
 ],
 "metadata": {
  "kernelspec": {
   "display_name": "Python 3",
   "language": "python",
   "name": "python3"
  },
  "language_info": {
   "codemirror_mode": {
    "name": "ipython",
    "version": 3
   },
   "file_extension": ".py",
   "mimetype": "text/x-python",
   "name": "python",
   "nbconvert_exporter": "python",
   "pygments_lexer": "ipython3",
   "version": "3.10.3"
  },
  "orig_nbformat": 4,
  "vscode": {
   "interpreter": {
    "hash": "aee8b7b246df8f9039afb4144a1f6fd8d2ca17a180786b69acc140d282b71a49"
   }
  }
 },
 "nbformat": 4,
 "nbformat_minor": 2
}
