{
 "cells": [
  {
   "attachments": {},
   "cell_type": "markdown",
   "metadata": {},
   "source": [
    "Analysis on ...\n",
    "\n",
    "From Data to model\n",
    "In this notebook we will take a dataset, clean it, train a model, and make a predictions\n",
    "\n",
    "Steps:\n",
    "1. Import libraries \n",
    "2. Load dataset\n",
    "3. Make a copy of original dataset\n",
    "4. We will use the copy for further processing\n",
    "5. Check for inconsistencies and missing values, duplicates\n",
    "6. Split the data set in train/test\n",
    "7. Separate the categorical and numerical features\n",
    "8. Check for missing and handle missing values in categorical and numerical using simple imputer\n",
    "10.Fit model and evaluate it"
   ]
  },
  {
   "attachments": {},
   "cell_type": "markdown",
   "metadata": {},
   "source": [
    "Step 1: Start importing libraries"
   ]
  },
  {
   "cell_type": "code",
   "execution_count": 1,
   "metadata": {},
   "outputs": [],
   "source": [
    "import pandas as pd # handles dataframe\n",
    "import numpy as np #handles array\n",
    "from sklearn.metrics import mean_absolute_error, mean_squared_error, r2_score\n",
    "from sklearn import set_config #draws the diagram of the pipeline\n",
    "set_config(display='diagram')\n",
    "\n"
   ]
  },
  {
   "cell_type": "code",
   "execution_count": 3,
   "metadata": {},
   "outputs": [],
   "source": [
    "# evaluates how well model did\n",
    "def eval_regression(true,predicted_values):\n",
    "    ''' Takes true and predicted values (arrays) and prints MAE, MSE, RMSE, and R2'''\n",
    "    # don't need to use numpy to do these calculations\n",
    "    # taking 2 parameters because that's what is need the true values and predicted values for calculations\n",
    "    mae = mean_absolute_error(true, predicted_values)\n",
    "    mse = mean_squared_error(true, predicted_values)\n",
    "    rmse = np.sqrt(mse)\n",
    "    r2 = r2_score(true, predicted_values)\n",
    "    print(f'MAE {mae}, \\n MSE {mse}, \\n RMSE {rmse}, \\n R^2 {r2}')"
   ]
  },
  {
   "cell_type": "code",
   "execution_count": 4,
   "metadata": {},
   "outputs": [
    {
     "name": "stdout",
     "output_type": "stream",
     "text": [
      "<class 'pandas.core.frame.DataFrame'>\n",
      "RangeIndex: 150 entries, 0 to 149\n",
      "Data columns (total 6 columns):\n",
      " #   Column              Non-Null Count  Dtype \n",
      "---  ------              --------------  ----- \n",
      " 0   index               150 non-null    int64 \n",
      " 1   Breed               150 non-null    object\n",
      " 2   height_low_inches   150 non-null    object\n",
      " 3   height_high_inches  150 non-null    object\n",
      " 4   weight_low_lbs      150 non-null    object\n",
      " 5   weight_high_lbs     150 non-null    object\n",
      "dtypes: int64(1), object(5)\n",
      "memory usage: 7.2+ KB\n"
     ]
    },
    {
     "data": {
      "text/html": [
       "<div>\n",
       "<style scoped>\n",
       "    .dataframe tbody tr th:only-of-type {\n",
       "        vertical-align: middle;\n",
       "    }\n",
       "\n",
       "    .dataframe tbody tr th {\n",
       "        vertical-align: top;\n",
       "    }\n",
       "\n",
       "    .dataframe thead th {\n",
       "        text-align: right;\n",
       "    }\n",
       "</style>\n",
       "<table border=\"1\" class=\"dataframe\">\n",
       "  <thead>\n",
       "    <tr style=\"text-align: right;\">\n",
       "      <th></th>\n",
       "      <th>index</th>\n",
       "      <th>Breed</th>\n",
       "      <th>height_low_inches</th>\n",
       "      <th>height_high_inches</th>\n",
       "      <th>weight_low_lbs</th>\n",
       "      <th>weight_high_lbs</th>\n",
       "    </tr>\n",
       "  </thead>\n",
       "  <tbody>\n",
       "    <tr>\n",
       "      <th>0</th>\n",
       "      <td>0</td>\n",
       "      <td>Akita</td>\n",
       "      <td>26</td>\n",
       "      <td>28</td>\n",
       "      <td>80</td>\n",
       "      <td>120</td>\n",
       "    </tr>\n",
       "    <tr>\n",
       "      <th>1</th>\n",
       "      <td>1</td>\n",
       "      <td>Anatolian Sheepdog</td>\n",
       "      <td>27</td>\n",
       "      <td>29</td>\n",
       "      <td>100</td>\n",
       "      <td>150</td>\n",
       "    </tr>\n",
       "    <tr>\n",
       "      <th>2</th>\n",
       "      <td>2</td>\n",
       "      <td>Bernese Mountain Dog</td>\n",
       "      <td>23</td>\n",
       "      <td>27</td>\n",
       "      <td>85</td>\n",
       "      <td>110</td>\n",
       "    </tr>\n",
       "    <tr>\n",
       "      <th>3</th>\n",
       "      <td>3</td>\n",
       "      <td>Bloodhound</td>\n",
       "      <td>24</td>\n",
       "      <td>26</td>\n",
       "      <td>80</td>\n",
       "      <td>120</td>\n",
       "    </tr>\n",
       "    <tr>\n",
       "      <th>4</th>\n",
       "      <td>4</td>\n",
       "      <td>Borzoi</td>\n",
       "      <td>26</td>\n",
       "      <td>28</td>\n",
       "      <td>70</td>\n",
       "      <td>100</td>\n",
       "    </tr>\n",
       "  </tbody>\n",
       "</table>\n",
       "</div>"
      ],
      "text/plain": [
       "   index                 Breed height_low_inches height_high_inches  \\\n",
       "0      0                 Akita                26                 28   \n",
       "1      1    Anatolian Sheepdog                27                 29   \n",
       "2      2  Bernese Mountain Dog                23                 27   \n",
       "3      3            Bloodhound                24                 26   \n",
       "4      4                Borzoi                26                 28   \n",
       "\n",
       "  weight_low_lbs weight_high_lbs  \n",
       "0             80             120  \n",
       "1            100             150  \n",
       "2             85             110  \n",
       "3             80             120  \n",
       "4             70             100  "
      ]
     },
     "execution_count": 4,
     "metadata": {},
     "output_type": "execute_result"
    }
   ],
   "source": [
    "path = './AKC Breed Info.csv'\n",
    "dog_breed_df = pd.read_csv(path)\n",
    "dog_breed_df.info()\n",
    "dog_breed_df.head()"
   ]
  }
 ],
 "metadata": {
  "kernelspec": {
   "display_name": "Python 3",
   "language": "python",
   "name": "python3"
  },
  "language_info": {
   "codemirror_mode": {
    "name": "ipython",
    "version": 3
   },
   "file_extension": ".py",
   "mimetype": "text/x-python",
   "name": "python",
   "nbconvert_exporter": "python",
   "pygments_lexer": "ipython3",
   "version": "3.10.3"
  },
  "orig_nbformat": 4,
  "vscode": {
   "interpreter": {
    "hash": "26de051ba29f2982a8de78e945f0abaf191376122a1563185a90213a26c5da77"
   }
  }
 },
 "nbformat": 4,
 "nbformat_minor": 2
}
